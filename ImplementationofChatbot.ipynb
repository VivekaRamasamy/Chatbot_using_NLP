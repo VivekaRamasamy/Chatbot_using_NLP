{
 "cells": [
  {
   "cell_type": "code",
   "execution_count": 1,
   "id": "3e381984-77cd-4196-836a-50cda9ff0f30",
   "metadata": {},
   "outputs": [],
   "source": [
    "#implementation of Chatbot"
   ]
  },
  {
   "cell_type": "code",
   "execution_count": 6,
   "id": "2dc66444-5a20-4bc1-ab03-418946288eea",
   "metadata": {},
   "outputs": [
    {
     "name": "stdout",
     "output_type": "stream",
     "text": [
      "Requirement already satisfied: nltk in c:\\users\\abishek\\appdata\\local\\programs\\python\\python312\\lib\\site-packages (3.9.1)\n",
      "Requirement already satisfied: scikit-learn in c:\\users\\abishek\\appdata\\local\\programs\\python\\python312\\lib\\site-packages (1.6.1)\n",
      "Requirement already satisfied: streamlit in c:\\users\\abishek\\appdata\\local\\programs\\python\\python312\\lib\\site-packages (1.43.0)\n",
      "Requirement already satisfied: click in c:\\users\\abishek\\appdata\\local\\programs\\python\\python312\\lib\\site-packages (from nltk) (8.1.8)\n",
      "Requirement already satisfied: joblib in c:\\users\\abishek\\appdata\\local\\programs\\python\\python312\\lib\\site-packages (from nltk) (1.4.2)\n",
      "Requirement already satisfied: regex>=2021.8.3 in c:\\users\\abishek\\appdata\\local\\programs\\python\\python312\\lib\\site-packages (from nltk) (2024.11.6)\n",
      "Requirement already satisfied: tqdm in c:\\users\\abishek\\appdata\\local\\programs\\python\\python312\\lib\\site-packages (from nltk) (4.67.1)\n",
      "Requirement already satisfied: numpy>=1.19.5 in c:\\users\\abishek\\appdata\\local\\programs\\python\\python312\\lib\\site-packages (from scikit-learn) (2.2.3)\n",
      "Requirement already satisfied: scipy>=1.6.0 in c:\\users\\abishek\\appdata\\local\\programs\\python\\python312\\lib\\site-packages (from scikit-learn) (1.15.2)\n",
      "Requirement already satisfied: threadpoolctl>=3.1.0 in c:\\users\\abishek\\appdata\\local\\programs\\python\\python312\\lib\\site-packages (from scikit-learn) (3.5.0)\n",
      "Requirement already satisfied: altair<6,>=4.0 in c:\\users\\abishek\\appdata\\local\\programs\\python\\python312\\lib\\site-packages (from streamlit) (5.5.0)\n",
      "Requirement already satisfied: blinker<2,>=1.0.0 in c:\\users\\abishek\\appdata\\local\\programs\\python\\python312\\lib\\site-packages (from streamlit) (1.9.0)\n",
      "Requirement already satisfied: cachetools<6,>=4.0 in c:\\users\\abishek\\appdata\\local\\programs\\python\\python312\\lib\\site-packages (from streamlit) (5.5.2)\n",
      "Requirement already satisfied: packaging<25,>=20 in c:\\users\\abishek\\appdata\\local\\programs\\python\\python312\\lib\\site-packages (from streamlit) (24.2)\n",
      "Requirement already satisfied: pandas<3,>=1.4.0 in c:\\users\\abishek\\appdata\\local\\programs\\python\\python312\\lib\\site-packages (from streamlit) (2.2.3)\n",
      "Requirement already satisfied: pillow<12,>=7.1.0 in c:\\users\\abishek\\appdata\\local\\programs\\python\\python312\\lib\\site-packages (from streamlit) (11.1.0)\n",
      "Requirement already satisfied: protobuf<6,>=3.20 in c:\\users\\abishek\\appdata\\local\\programs\\python\\python312\\lib\\site-packages (from streamlit) (5.29.3)\n",
      "Requirement already satisfied: pyarrow>=7.0 in c:\\users\\abishek\\appdata\\local\\programs\\python\\python312\\lib\\site-packages (from streamlit) (19.0.1)\n",
      "Requirement already satisfied: requests<3,>=2.27 in c:\\users\\abishek\\appdata\\local\\programs\\python\\python312\\lib\\site-packages (from streamlit) (2.32.3)\n",
      "Requirement already satisfied: tenacity<10,>=8.1.0 in c:\\users\\abishek\\appdata\\local\\programs\\python\\python312\\lib\\site-packages (from streamlit) (9.0.0)\n",
      "Requirement already satisfied: toml<2,>=0.10.1 in c:\\users\\abishek\\appdata\\local\\programs\\python\\python312\\lib\\site-packages (from streamlit) (0.10.2)\n",
      "Requirement already satisfied: typing-extensions<5,>=4.4.0 in c:\\users\\abishek\\appdata\\local\\programs\\python\\python312\\lib\\site-packages (from streamlit) (4.12.2)\n",
      "Requirement already satisfied: watchdog<7,>=2.1.5 in c:\\users\\abishek\\appdata\\local\\programs\\python\\python312\\lib\\site-packages (from streamlit) (6.0.0)\n",
      "Requirement already satisfied: gitpython!=3.1.19,<4,>=3.0.7 in c:\\users\\abishek\\appdata\\local\\programs\\python\\python312\\lib\\site-packages (from streamlit) (3.1.44)\n",
      "Requirement already satisfied: pydeck<1,>=0.8.0b4 in c:\\users\\abishek\\appdata\\local\\programs\\python\\python312\\lib\\site-packages (from streamlit) (0.9.1)\n",
      "Requirement already satisfied: tornado<7,>=6.0.3 in c:\\users\\abishek\\appdata\\local\\programs\\python\\python312\\lib\\site-packages (from streamlit) (6.4.2)\n",
      "Requirement already satisfied: jinja2 in c:\\users\\abishek\\appdata\\local\\programs\\python\\python312\\lib\\site-packages (from altair<6,>=4.0->streamlit) (3.1.5)\n",
      "Requirement already satisfied: jsonschema>=3.0 in c:\\users\\abishek\\appdata\\local\\programs\\python\\python312\\lib\\site-packages (from altair<6,>=4.0->streamlit) (4.23.0)\n",
      "Requirement already satisfied: narwhals>=1.14.2 in c:\\users\\abishek\\appdata\\local\\programs\\python\\python312\\lib\\site-packages (from altair<6,>=4.0->streamlit) (1.29.1)\n",
      "Requirement already satisfied: colorama in c:\\users\\abishek\\appdata\\local\\programs\\python\\python312\\lib\\site-packages (from click->nltk) (0.4.6)\n",
      "Requirement already satisfied: gitdb<5,>=4.0.1 in c:\\users\\abishek\\appdata\\local\\programs\\python\\python312\\lib\\site-packages (from gitpython!=3.1.19,<4,>=3.0.7->streamlit) (4.0.12)\n",
      "Requirement already satisfied: python-dateutil>=2.8.2 in c:\\users\\abishek\\appdata\\local\\programs\\python\\python312\\lib\\site-packages (from pandas<3,>=1.4.0->streamlit) (2.9.0.post0)\n",
      "Requirement already satisfied: pytz>=2020.1 in c:\\users\\abishek\\appdata\\local\\programs\\python\\python312\\lib\\site-packages (from pandas<3,>=1.4.0->streamlit) (2025.1)\n",
      "Requirement already satisfied: tzdata>=2022.7 in c:\\users\\abishek\\appdata\\local\\programs\\python\\python312\\lib\\site-packages (from pandas<3,>=1.4.0->streamlit) (2025.1)\n",
      "Requirement already satisfied: charset-normalizer<4,>=2 in c:\\users\\abishek\\appdata\\local\\programs\\python\\python312\\lib\\site-packages (from requests<3,>=2.27->streamlit) (3.4.1)\n",
      "Requirement already satisfied: idna<4,>=2.5 in c:\\users\\abishek\\appdata\\local\\programs\\python\\python312\\lib\\site-packages (from requests<3,>=2.27->streamlit) (3.10)\n",
      "Requirement already satisfied: urllib3<3,>=1.21.1 in c:\\users\\abishek\\appdata\\local\\programs\\python\\python312\\lib\\site-packages (from requests<3,>=2.27->streamlit) (2.3.0)\n",
      "Requirement already satisfied: certifi>=2017.4.17 in c:\\users\\abishek\\appdata\\local\\programs\\python\\python312\\lib\\site-packages (from requests<3,>=2.27->streamlit) (2025.1.31)\n",
      "Requirement already satisfied: smmap<6,>=3.0.1 in c:\\users\\abishek\\appdata\\local\\programs\\python\\python312\\lib\\site-packages (from gitdb<5,>=4.0.1->gitpython!=3.1.19,<4,>=3.0.7->streamlit) (5.0.2)\n",
      "Requirement already satisfied: MarkupSafe>=2.0 in c:\\users\\abishek\\appdata\\local\\programs\\python\\python312\\lib\\site-packages (from jinja2->altair<6,>=4.0->streamlit) (3.0.2)\n",
      "Requirement already satisfied: attrs>=22.2.0 in c:\\users\\abishek\\appdata\\local\\programs\\python\\python312\\lib\\site-packages (from jsonschema>=3.0->altair<6,>=4.0->streamlit) (25.1.0)\n",
      "Requirement already satisfied: jsonschema-specifications>=2023.03.6 in c:\\users\\abishek\\appdata\\local\\programs\\python\\python312\\lib\\site-packages (from jsonschema>=3.0->altair<6,>=4.0->streamlit) (2024.10.1)\n",
      "Requirement already satisfied: referencing>=0.28.4 in c:\\users\\abishek\\appdata\\local\\programs\\python\\python312\\lib\\site-packages (from jsonschema>=3.0->altair<6,>=4.0->streamlit) (0.36.2)\n",
      "Requirement already satisfied: rpds-py>=0.7.1 in c:\\users\\abishek\\appdata\\local\\programs\\python\\python312\\lib\\site-packages (from jsonschema>=3.0->altair<6,>=4.0->streamlit) (0.23.1)\n",
      "Requirement already satisfied: six>=1.5 in c:\\users\\abishek\\appdata\\local\\programs\\python\\python312\\lib\\site-packages (from python-dateutil>=2.8.2->pandas<3,>=1.4.0->streamlit) (1.17.0)\n",
      "Note: you may need to restart the kernel to use updated packages.\n"
     ]
    },
    {
     "name": "stderr",
     "output_type": "stream",
     "text": [
      "\n",
      "[notice] A new release of pip is available: 24.3.1 -> 25.0.1\n",
      "[notice] To update, run: python.exe -m pip install --upgrade pip\n"
     ]
    }
   ],
   "source": [
    "pip install nltk scikit-learn streamlit"
   ]
  },
  {
   "cell_type": "code",
   "execution_count": 2,
   "id": "72925f5d-ef54-47dd-bf1b-3d12601e37fe",
   "metadata": {},
   "outputs": [],
   "source": [
    "import nltk\n",
    "import random\n",
    "import os\n",
    "import ssl\n",
    "import streamlit as st\n",
    "from sklearn.feature_extraction.text import TfidfVectorizer\n",
    "from sklearn.linear_model import LogisticRegression"
   ]
  },
  {
   "cell_type": "code",
   "execution_count": 3,
   "id": "dc25e1c3-591b-4333-831c-7f627f06c7ac",
   "metadata": {},
   "outputs": [
    {
     "name": "stderr",
     "output_type": "stream",
     "text": [
      "[nltk_data] Downloading package punkt to\n",
      "[nltk_data]     C:\\Users\\Abishek\\AppData\\Roaming\\nltk_data...\n",
      "[nltk_data]   Unzipping tokenizers\\punkt.zip.\n"
     ]
    },
    {
     "data": {
      "text/plain": [
       "True"
      ]
     },
     "execution_count": 3,
     "metadata": {},
     "output_type": "execute_result"
    }
   ],
   "source": [
    "ssl._create_default_https_context = ssl._create_unverified_context\n",
    "nltk.data.path.append(os.path.abspath('nltk_data'))\n",
    "nltk.download('punkt')"
   ]
  },
  {
   "cell_type": "code",
   "execution_count": null,
   "id": "6e58b488-f4e1-4dbf-83e9-4f8d78a2fadd",
   "metadata": {},
   "outputs": [],
   "source": [
    "intents = [\n",
    "    {\n",
    "      \"tag\": \"greeting\",\n",
    "      \"patterns\": [\"Hello\", \"Hi\", \"Hey\", \"Good morning\", \"Good evening\"],\n",
    "      \"responses\": [\"Hello! How can I assist you today?\", \"Hi there! How can I help?\"]\n",
    "    },\n",
    "    {\n",
    "      \"tag\": \"goodbye\",\n",
    "      \"patterns\": [\"Bye\", \"Goodbye\", \"See you later\", \"Take care\"],\n",
    "      \"responses\": [\"Goodbye! Have a great day!\", \"See you later!\"]\n",
    "    },\n",
    "    {\n",
    "      \"tag\": \"thanks\",\n",
    "      \"patterns\": [\"Thanks\", \"Thank you\", \"I appreciate it\"],\n",
    "      \"responses\": [\"You're welcome!\", \"Glad I could help!\"]\n",
    "    },\n",
    "    {\n",
    "      \"tag\": \"name\",\n",
    "      \"patterns\": [\"What is your name?\", \"Who are you?\"],\n",
    "      \"responses\": [\"I am your AI chatbot!\", \"You can call me ChatBot.\"]\n",
    "    },\n",
    "    {\n",
    "      \"tag\": \"weather\",\n",
    "      \"patterns\": [\"What is the weather like?\", \"Tell me the weather\", \"Is it raining today?\"],\n",
    "      \"responses\": [\"I can check the weather for you. Which city?\"]\n",
    "    },\n",
    "    {\n",
    "      \"tag\": \"help\",\n",
    "      \"patterns\": [\"I need help\", \"Can you assist me?\", \"Help me\"],\n",
    "      \"responses\": [\"Sure! What do you need help with?\"]\n",
    "    },\n",
    "    {\n",
    "  \"tag\": \"about\",\n",
    "  \"patterns\": [\"Tell me about yourself\", \"What do you do?\", \"Who created you?\", \"What is your purpose?\"],\n",
    "  \"responses\": [\n",
    "    \"I am an AI chatbot designed to assist you with various tasks.\",\n",
    "    \"I am a virtual assistant created to answer your questions and provide information.\",\n",
    "    \"I was designed to help users with queries, automation, and general assistance.\"\n",
    "  ]\n",
    "},\n",
    "    {\n",
    "  \"tag\": \"age\",\n",
    "  \"patterns\": [\"How old are you?\", \"What is your age?\", \"When were you created?\", \"How long have you existed?\"],\n",
    "  \"responses\": [\n",
    "    \"I exist in the digital world, so I don't age like humans!\",\n",
    "    \"I was created recently, but I keep evolving and learning!\",\n",
    "    \"I don’t have an exact age, but I'm always up-to-date and improving!\",\n",
    "    \"Time doesn't affect me, but I'm always here to assist you!\"\n",
    "  ]\n",
    "},{\n",
    "  \"tag\": \"budget\",\n",
    "  \"patterns\": [\n",
    "    \"What is my budget?\", \n",
    "    \"Can you help me with budgeting?\", \n",
    "    \"How to manage my budget?\", \n",
    "    \"Give me some budgeting tips\", \n",
    "    \"I need help with financial planning\"\n",
    "  ],\n",
    "  \"responses\": [\n",
    "    \"Sure! Are you looking for general budgeting tips or help with a specific budget?\",\n",
    "    \"A good rule of thumb is the 50/30/20 rule: 50% for needs, 30% for wants, and 20% for savings.\",\n",
    "    \"You can track your income and expenses using budgeting apps or spreadsheets.\",\n",
    "    \"Would you like some recommendations for financial planning tools?\",\n",
    "    \"Creating a budget involves listing your income sources and setting limits on your expenses.\"\n",
    "  ]\n",
    "},{\n",
    "  \"tag\": \"credit_score\",\n",
    "  \"patterns\": [\n",
    "    \"What is a credit score?\",\n",
    "    \"How can I check my credit score?\",\n",
    "    \"How do I improve my credit score?\",\n",
    "    \"What affects my credit score?\",\n",
    "    \"Why is my credit score important?\"\n",
    "  ],\n",
    "  \"responses\": [\n",
    "    \"A credit score is a numerical representation of your creditworthiness, usually ranging from 300 to 850.\",\n",
    "    \"You can check your credit score through credit bureaus like Experian, Equifax, or TransUnion.\",\n",
    "    \"To improve your credit score, make payments on time, reduce outstanding debts, and avoid opening too many new accounts at once.\",\n",
    "    \"Your credit score is affected by payment history, credit utilization, length of credit history, types of credit, and recent inquiries.\",\n",
    "    \"A good credit score helps you get better loan rates, credit card approvals, and even rental agreements.\"\n",
    "  ]\n",
    "}\n",
    "]\n",
    "\n"
   ]
  }
 ],
 "metadata": {
  "kernelspec": {
   "display_name": "Python 3 (ipykernel)",
   "language": "python",
   "name": "python3"
  },
  "language_info": {
   "codemirror_mode": {
    "name": "ipython",
    "version": 3
   },
   "file_extension": ".py",
   "mimetype": "text/x-python",
   "name": "python",
   "nbconvert_exporter": "python",
   "pygments_lexer": "ipython3",
   "version": "3.12.8"
  }
 },
 "nbformat": 4,
 "nbformat_minor": 5
}
